{
 "cells": [
  {
   "cell_type": "markdown",
   "metadata": {},
   "source": [
    "## Python Lecture 2: Introduction to Python (Continued)\n",
    "\n",
    "Today, we're going to work in small groups to practice what we learned on Thursday.  Each of your groups has received a secret note - your mission should you choose to accept it, is to answer the questions on the note using the data provided. This is not a race, and your goal is to work together as a team to understand each step in the notebook and \"troubleshoot\" errors."
   ]
  },
  {
   "cell_type": "markdown",
   "metadata": {},
   "source": [
    "Let's remind each other what the next cell does:"
   ]
  },
  {
   "cell_type": "code",
   "execution_count": null,
   "metadata": {},
   "outputs": [],
   "source": [
    "import numpy as np\n",
    "import pandas as pd\n",
    "import math\n",
    "from datascience import *\n",
    "\n",
    "pd.options.display.float_format = '{:.2f}'.format"
   ]
  },
  {
   "cell_type": "markdown",
   "metadata": {},
   "source": [
    "## 1.0 Import your data\n",
    "\n",
    "Here's your reminder - you need to import your .csv into Python.  The **pd.** tells Python to call up the panda function (this is like vocabulary - something to learn), to read the file as a csv, the name of the file, and that the delimiter is a comma. (A delimiter is what separates each of the columns, or array values, from one another.)  Below is a line of code - read in your dataset!\n",
    "\n",
    "df=pd.read_csv('name of file.csv', delimiter = ',')"
   ]
  },
  {
   "cell_type": "code",
   "execution_count": null,
   "metadata": {},
   "outputs": [],
   "source": [
    "#depending on your mission, write the code to import your datafile here, and take a look at it"
   ]
  },
  {
   "cell_type": "markdown",
   "metadata": {},
   "source": [
    "## 2.0 Getting familiar with your data\n",
    "\n",
    "Let's learn a bit about how we can look at our data and understand what is in our dataframe.  We can ask for \"information\" about our dataframe."
   ]
  },
  {
   "cell_type": "code",
   "execution_count": null,
   "metadata": {},
   "outputs": [],
   "source": [
    "df.info()"
   ]
  },
  {
   "cell_type": "markdown",
   "metadata": {},
   "source": [
    "It can also be helpful to rename columns - I like coding with the original variable names, but to simplify, I've provided you with my short code names.  You can try and rename them into something that is meaningful to you."
   ]
  },
  {
   "cell_type": "code",
   "execution_count": null,
   "metadata": {},
   "outputs": [],
   "source": [
    "df.rename(columns={\"oldname\":\"newname\", \"oldname\":\"newname\", \"oldname\":\"newname\"}, inplace=True)"
   ]
  },
  {
   "cell_type": "markdown",
   "metadata": {},
   "source": [
    "Rename your columns into something that makes sense to you, using the **ACS codebook (also known as the metadata file)** to identify which variables you want to rename.  Then, check to see if your columns renamed correctly."
   ]
  },
  {
   "cell_type": "code",
   "execution_count": null,
   "metadata": {},
   "outputs": [],
   "source": [
    "print(df.columns)"
   ]
  },
  {
   "cell_type": "code",
   "execution_count": 26,
   "metadata": {},
   "outputs": [],
   "source": [
    "#remember how to print just the top five lines of your dataset?  See if you can figure that out, and try it here!"
   ]
  },
  {
   "cell_type": "markdown",
   "metadata": {},
   "source": [
    "### 2.1 Managing your dataset\n",
    "\n",
    "Sometimes, when we start coding, it's easier to break down our dataset into smaller chunks. If we want to create a new dataframe that only includes the columns we want to analyze for question 1, then we need to specify that it's a dataframe, using the [ ] twice.  Basically, what I'm saying in the cell below is \"create a new object, noncitizen_df\" and make that equal to \"an extract of the df dataframe, with the following variables\", but put it in a new \"dataframe\", not just a list.\n",
    "\n",
    "newname_df=df[[\"variable name 1\",\"variable name 2\"]]\n",
    "\n",
    "Try it without the double brackets and see what happens!"
   ]
  },
  {
   "cell_type": "code",
   "execution_count": null,
   "metadata": {},
   "outputs": [],
   "source": [
    "#Try selecting just the columns you need for your question 1 here, assigning the new dataframe a name \"question1\""
   ]
  },
  {
   "cell_type": "code",
   "execution_count": null,
   "metadata": {},
   "outputs": [],
   "source": [
    "#what happens when you type in \"df\"?  How about \"question1\"?  It's like you have two workbooks open in Excel."
   ]
  },
  {
   "cell_type": "markdown",
   "metadata": {},
   "source": [
    "Great!  But what if I want them sorted?  The code for sorting is:\n",
    "df.sort_values(by='column_name')\n",
    "\n",
    "Give it a try!  What did it give you?  \n",
    "\n",
    "Figure out how to sort it from largest to smallest. (Hint: Google is your friend)"
   ]
  },
  {
   "cell_type": "code",
   "execution_count": null,
   "metadata": {},
   "outputs": [],
   "source": [
    "#try and sort your values here"
   ]
  },
  {
   "cell_type": "markdown",
   "metadata": {},
   "source": [
    "What if I just want to print the 5 highest values?  I can use the following code:\n",
    "name = df.nlargest(5, \"variable\").  Try it!  And without looking at google, guess how you might print the smallest. "
   ]
  },
  {
   "cell_type": "markdown",
   "metadata": {},
   "source": [
    "## 3.0 Creating New Variables\n",
    "\n",
    "The last \"skill\" you need to complete your mission is to create new variables that are calculations of two or more other variables.  As a reminder, if you want them to show up in your \"dataset\", you need to assign them to your dataframe.  \n",
    "\n",
    "The syntax is:\n",
    "\n",
    "df[newvariablename]=df[variable] (any kind of numerical operation you want to do) df[othervariable].  \n",
    "\n",
    "So, if I wanted to calculate the percent owners, I might write something like:\n",
    "\n",
    "question1[\"pct_owners\"] = question1[number_owners]/question1[number_housingunits]*100"
   ]
  },
  {
   "cell_type": "code",
   "execution_count": null,
   "metadata": {},
   "outputs": [],
   "source": [
    "#calculate the percent for question 1."
   ]
  },
  {
   "cell_type": "markdown",
   "metadata": {},
   "source": [
    "Ok - you're now on your own!!!  Try and answer the questions for your dataset, generating new code that you write below this cell."
   ]
  },
  {
   "cell_type": "markdown",
   "metadata": {},
   "source": [
    "## 4.0 Bonus: Calculating the MOE\n",
    "\n",
    "OK - you've got the basics down.  Now, how would you calculate the MOE for a derived proportion? I'll give you a hint - for the square root, you're going to have to invoke the numpy library."
   ]
  },
  {
   "cell_type": "code",
   "execution_count": null,
   "metadata": {},
   "outputs": [],
   "source": []
  }
 ],
 "metadata": {
  "kernelspec": {
   "display_name": "Python 3",
   "language": "python",
   "name": "python3"
  },
  "language_info": {
   "codemirror_mode": {
    "name": "ipython",
    "version": 3
   },
   "file_extension": ".py",
   "mimetype": "text/x-python",
   "name": "python",
   "nbconvert_exporter": "python",
   "pygments_lexer": "ipython3",
   "version": "3.6.8"
  }
 },
 "nbformat": 4,
 "nbformat_minor": 2
}
