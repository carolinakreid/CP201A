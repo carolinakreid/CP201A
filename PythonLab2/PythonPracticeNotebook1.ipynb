{
 "cells": [
  {
   "cell_type": "markdown",
   "metadata": {},
   "source": [
    "## 1 Introduction\n",
    "\n",
    "The goal of this practice notebook is to input code yourself.  It will allow you to practice the following tasks:\n",
    "\n",
    "- upload data\n",
    "- rename variables\n",
    "- make a copy of your dataframe, selecting specific rows and/or columns you want to work with\n",
    "- write formulas to create new variables\n",
    "\n",
    "We have provided you with a new fun dataset to work with - historical rental prices for cities across California. Your objective is to select a few cities in California to assess which city had the greatest increase in median rents from 2011 to 2019. (Which cities you want to focus on is up to you.)"
   ]
  },
  {
   "cell_type": "markdown",
   "metadata": {},
   "source": [
    "### 1.1 Libraries\n",
    "\n",
    "Let's begin by importing our libraries."
   ]
  },
  {
   "cell_type": "code",
   "execution_count": null,
   "metadata": {},
   "outputs": [],
   "source": [
    "import numpy as np\n",
    "import pandas as pd\n",
    "import math\n",
    "from datascience import *\n",
    "\n",
    "pd.options.display.float_format = '{:.2f}'.format"
   ]
  },
  {
   "cell_type": "markdown",
   "metadata": {},
   "source": [
    "### 1.2 Import Your Data\n",
    "\n",
    "The dataset is called \"City_Zri_California.csv\". "
   ]
  },
  {
   "cell_type": "code",
   "execution_count": null,
   "metadata": {},
   "outputs": [],
   "source": [
    "#read in your csv file, creating a new dataframe called zillow_df.\n",
    "\n",
    "pd.read_csv('City_Zri_California.csv', delimiter = ',')"
   ]
  },
  {
   "cell_type": "code",
   "execution_count": null,
   "metadata": {},
   "outputs": [],
   "source": [
    "#write the code to see the data here, ideally just five rows"
   ]
  },
  {
   "cell_type": "code",
   "execution_count": null,
   "metadata": {},
   "outputs": [],
   "source": [
    "#check to make sure your data imported correctly."
   ]
  },
  {
   "cell_type": "code",
   "execution_count": null,
   "metadata": {},
   "outputs": [],
   "source": [
    "# Advanced move - re-import your data, this time, forcing the date columns to import as integers rather than floats."
   ]
  },
  {
   "cell_type": "markdown",
   "metadata": {},
   "source": [
    "### 1.3 Rename your Variables\n",
    "\n",
    "The column names--representing the dates--aren't that easy to work with, since you have to type a lot of numbers.  And RegionName is really just city name. Rename your column labels.  "
   ]
  },
  {
   "cell_type": "code",
   "execution_count": null,
   "metadata": {},
   "outputs": [],
   "source": [
    "#Rename your columns"
   ]
  },
  {
   "cell_type": "markdown",
   "metadata": {},
   "source": [
    "It's always good practice to check and make sure your code ran correctly.  Check to see if your column names showed up the way you wanted, and that you're dataset is in good shape!"
   ]
  },
  {
   "cell_type": "code",
   "execution_count": null,
   "metadata": {},
   "outputs": [],
   "source": [
    "#Check to see if it worked"
   ]
  },
  {
   "cell_type": "markdown",
   "metadata": {},
   "source": [
    "## 2 Working with our Dataset in Python\n",
    "\n",
    "We're going to step back for a minute and spend a bit more time explaining how dataframe objects work in Python.  We often want to work with subsets of our data (e.g., just certain columns or variables).  In Python, this is referred to as \"indexing\" and \"slicing\"."
   ]
  },
  {
   "cell_type": "markdown",
   "metadata": {},
   "source": [
    "### 2.1 Subsetting Your Data\n",
    "\n",
    "Create a new dataframe (don't forget to make a copy) that includes only the cities you want to compare, and the columns that you need to calculate change in rents.  There's lots of ways to do this, but you can consider using conditional statements, or the .loc and .iloc commands."
   ]
  },
  {
   "cell_type": "code",
   "execution_count": null,
   "metadata": {},
   "outputs": [],
   "source": [
    "#Create new dataframe"
   ]
  },
  {
   "cell_type": "markdown",
   "metadata": {},
   "source": [
    "## 3 Calculating Changes in Rent\n",
    "\n",
    "Create a new variable that shows change in rent."
   ]
  },
  {
   "cell_type": "code",
   "execution_count": null,
   "metadata": {},
   "outputs": [],
   "source": [
    "#  write the equation here"
   ]
  },
  {
   "cell_type": "markdown",
   "metadata": {},
   "source": [
    "## 4 Sorting your Data\n",
    "\n",
    "Which city has the highest rent?  The largest change in rent?"
   ]
  },
  {
   "cell_type": "code",
   "execution_count": 12,
   "metadata": {},
   "outputs": [],
   "source": [
    "#What's the answer?"
   ]
  }
 ],
 "metadata": {
  "kernelspec": {
   "display_name": "Python 3",
   "language": "python",
   "name": "python3"
  },
  "language_info": {
   "codemirror_mode": {
    "name": "ipython",
    "version": 3
   },
   "file_extension": ".py",
   "mimetype": "text/x-python",
   "name": "python",
   "nbconvert_exporter": "python",
   "pygments_lexer": "ipython3",
   "version": "3.6.8"
  }
 },
 "nbformat": 4,
 "nbformat_minor": 2
}
