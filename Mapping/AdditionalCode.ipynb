{
 "cells": [
  {
   "cell_type": "markdown",
   "metadata": {},
   "source": [
    "## I.  Useful Code for Mapping\n",
    "\n",
    "Hi!  As per request, I've made a notebook that allows you to:\n",
    "\n",
    "- Create an illustrative boundary around your case study neighborhood\n",
    "- Classify by standard deviations"
   ]
  },
  {
   "cell_type": "code",
   "execution_count": null,
   "metadata": {},
   "outputs": [],
   "source": [
    "%matplotlib inline\n",
    "import pandas as pd, numpy as np, matplotlib.pyplot as plt\n",
    "import geopandas as gpd\n",
    "from geopandas import GeoDataFrame\n",
    "from shapely.geometry import Point\n",
    "from scipy import ndimage\n",
    "import matplotlib.pylab as pylab\n",
    "import matplotlib.pyplot as plt\n",
    "import warnings \n",
    "warnings.filterwarnings('ignore')"
   ]
  },
  {
   "cell_type": "markdown",
   "metadata": {},
   "source": [
    "### 1.1  Reading in Tract Level Shapefile"
   ]
  },
  {
   "cell_type": "code",
   "execution_count": null,
   "metadata": {},
   "outputs": [],
   "source": [
    "#First, I'm going to read in my tract level shapefile as a geodataframe - see how I've put\n",
    "#the full path in the file name - this is so I didn't have to copy all the shapefiles\n",
    "#into a new datahub directory\n",
    "\n",
    "tracts_gdf = gpd.read_file('/home/jovyan/CP201APythonNotebooks/Mapping/cb_2018_06_tract_500k.shp')"
   ]
  },
  {
   "cell_type": "code",
   "execution_count": null,
   "metadata": {},
   "outputs": [],
   "source": [
    "# See what we have\n",
    "\n",
    "tracts_gdf.plot(figsize = (5, 5), color = \"whitesmoke\", edgecolor = \"lightgrey\", linewidth = 0.5).set_axis_off()"
   ]
  },
  {
   "cell_type": "code",
   "execution_count": null,
   "metadata": {},
   "outputs": [],
   "source": [
    "# Just keep Alameda County\n",
    "\n",
    "tracts_gdf.drop(tracts_gdf[tracts_gdf['COUNTYFP']!=\"001\"].index, inplace=True )\n",
    "tracts_gdf.head()"
   ]
  },
  {
   "cell_type": "markdown",
   "metadata": {},
   "source": [
    "### 1.2 Read in Data from ACS on Geographic Mobility"
   ]
  },
  {
   "cell_type": "code",
   "execution_count": null,
   "metadata": {},
   "outputs": [],
   "source": [
    "variable_types = {'Geo.id': 'str', 'GEO.id2': 'str'}\n",
    "mobility_df=pd.read_csv('/home/jovyan/CP201APythonNotebooks/Lab2Files/ACS_17_5YR_B07013_with_ann.csv', delimiter = ',', header=[0], skiprows=[1], dtype=variable_types)\n",
    "mobility_df.head()"
   ]
  },
  {
   "cell_type": "code",
   "execution_count": null,
   "metadata": {},
   "outputs": [],
   "source": [
    "# Rename my variables\n",
    "\n",
    "mobility_df.rename(columns={\"GEO.id\":\"fullfips\",\"GEO.id2\":\"fips\",\n",
    "\"GEO.display-label\":\"label\",\n",
    "\"HD01_VD01\":\"tot\",\n",
    "\"HD02_VD01\":\"tot_moe\",\n",
    "\"HD01_VD03\":\"owner\",\n",
    "\"HD02_VD03\":\"owner_moe\",\n",
    "\"HD01_VD04\":\"renter\",\n",
    "\"HD02_VD04\":\"renter_moe\",\n",
    "\"HD01_VD05\":\"tot_samehouse\",\n",
    "\"HD02_VD05\":\"tot_samehouse_moe\",\n",
    "\"HD01_VD06\":\"owner_samehouse\",\n",
    "\"HD02_VD06\":\"owner_samehouse_moe\",\n",
    "\"HD01_VD07\":\"renter_samehouse\",\n",
    "\"HD02_VD07\":\"renter_samehouse_moe\",\n",
    "\"HD01_VD08\":\"tot_cty\",\n",
    "\"HD02_VD08\":\"tot_cty_moe\",\n",
    "\"HD01_VD09\":\"owner_cty\",\n",
    "\"HD02_VD09\":\"owner_cty_moe\",\n",
    "\"HD01_VD10\":\"renter_cty\",\n",
    "\"HD02_VD10\":\"renter_cty_moe\",\n",
    "\"HD01_VD11\":\"tot_dcty\",\n",
    "\"HD02_VD11\":\"tot_dcty_moe\",\n",
    "\"HD01_VD12\":\"owner_dcty\",\n",
    "\"HD02_VD12\":\"owner_dcty_moe\",\n",
    "\"HD01_VD13\":\"renter_dcty\",\n",
    "\"HD02_VD13\":\"renter_dcty_moe\",\n",
    "\"HD01_VD14\":\"tot_state\",\n",
    "\"HD02_VD14\":\"tot_state_moe\",\n",
    "\"HD01_VD15\":\"owner_state\",\n",
    "\"HD02_VD15\":\"owner_state_moe\",\n",
    "\"HD01_VD16\":\"renter_state\",\n",
    "\"HD02_VD16\":\"renter_state_moe\",\n",
    "\"HD01_VD17\":\"tot_abroad\",\n",
    "\"HD02_VD17\":\"tot_abroad_moe\",\n",
    "\"HD01_VD18\":\"owner_abroad\",\n",
    "\"HD02_VD18\":\"owner_abroad_moe\",\n",
    "\"HD01_VD19\":\"renter_abroad\",\n",
    "\"HD02_VD19\":\"renter_abroad_moe\"}, inplace=True)"
   ]
  },
  {
   "cell_type": "code",
   "execution_count": null,
   "metadata": {},
   "outputs": [],
   "source": [
    "# Join my ACS data to my shapefile - note a slightly different code than last time.  Either works, but\n",
    "# this way I retain my GEOID as a variable that I can use to filter my case study census tracts on.\n",
    "\n",
    "tracts_gdf['join_id'] = tracts_gdf['GEOID']\n",
    "mobility_df['join_id']=mobility_df[\"fips\"]\n",
    "mobility_gdf = tracts_gdf.merge(mobility_df, on = 'join_id')\n",
    "mobility_gdf.head()"
   ]
  },
  {
   "cell_type": "markdown",
   "metadata": {},
   "source": [
    "## 1.3  Create a layer of my case study community boundaries"
   ]
  },
  {
   "cell_type": "code",
   "execution_count": null,
   "metadata": {},
   "outputs": [],
   "source": [
    "# Select my case study census tracts\n",
    "\n",
    "dtoakland_gdf=mobility_gdf[(mobility_gdf.GEOID==\"06001402800\") \n",
    "                         | (mobility_gdf.GEOID==\"06001402900\")\n",
    "                         | (mobility_gdf.GEOID==\"06001403000\")\n",
    "                         | (mobility_gdf.GEOID==\"06001403100\")\n",
    "                         | (mobility_gdf.GEOID==\"06001403300\")\n",
    "                         | (mobility_gdf.GEOID==\"06001983200\")].copy()\n",
    "dtoakland_gdf.head()"
   ]
  },
  {
   "cell_type": "code",
   "execution_count": null,
   "metadata": {},
   "outputs": [],
   "source": [
    "# Just keep the tract information. I have to keep the \"COUNTYFP\" because I am going to \"dissolve\" all the tracts\n",
    "#based on that variable in the next step\n",
    "\n",
    "dtoakland_gdf_simple = dtoakland_gdf[['GEOID','geometry', \"COUNTYFP\"]].reset_index()\n",
    "dtoakland_gdf_simple.plot()"
   ]
  },
  {
   "cell_type": "code",
   "execution_count": null,
   "metadata": {},
   "outputs": [],
   "source": [
    "#What this step does is \"dissolve\" or \"aggregates\" all the polygons that share the same value for the variable I call\n",
    "casestudy_geo=dtoakland_gdf.dissolve(by=\"COUNTYFP\")\n",
    "casestudy_geo.plot()"
   ]
  },
  {
   "cell_type": "markdown",
   "metadata": {},
   "source": [
    "## 1.4 Make a Map!"
   ]
  },
  {
   "cell_type": "code",
   "execution_count": null,
   "metadata": {},
   "outputs": [],
   "source": [
    "# Let's start by creating a variable to map.  I'm just going to do percent owners.\n",
    "\n",
    "mobility_gdf[\"pct_owner\"]=mobility_gdf[\"owner\"]/mobility_gdf[\"tot\"]*100\n",
    "mobility_gdf.head()"
   ]
  },
  {
   "cell_type": "code",
   "execution_count": null,
   "metadata": {},
   "outputs": [],
   "source": [
    "#  Now, I'm just going to make a map!  I'm going to add my case study layer, creating an edge for it, and keeping the\n",
    "# inside of the polygon blank (facecolor=\"none\")\n",
    "\n",
    "figure, ax = plt.subplots(figsize=(14,10))\n",
    "base = mobility_gdf.plot(column=\"pct_owner\", scheme = \"quantiles\", k = 5, legend=True, ax=ax, cmap=\"Blues\")\n",
    "casestudy_geo.plot(ax=base, facecolor='none', edgecolor = \"orange\", linewidth = 2)\n",
    "lims=plt.axis(\"equal\")\n",
    "ax.set_axis_off()\n",
    "\n",
    "ax.set_title('Percent Owners, 2017', fontdict= \n",
    "            {'fontsize':25})\n",
    "\n",
    "plt.show()"
   ]
  },
  {
   "cell_type": "markdown",
   "metadata": {},
   "source": [
    "## 1.5  Classifying by Standard Deviations\n",
    "\n",
    "This proved to be a bit harder!  The trick is to install the \"map classify\" options within the library pysal.\n",
    "\n",
    "The full documentation can be found here:\n",
    "https://pysal.readthedocs.io/en/v1.11.0/library/esda/mapclassify.html\n",
    "\n",
    "And, I figured out how to integrate it with our panda mapping here:\n",
    "http://darribas.org/gds_scipy16/ipynb_md/02_geovisualization.html\n",
    "\n",
    "First, we need to install a different version of pysal than is available on datahub."
   ]
  },
  {
   "cell_type": "code",
   "execution_count": null,
   "metadata": {},
   "outputs": [],
   "source": [
    "pip install pysal --upgrade pip"
   ]
  },
  {
   "cell_type": "code",
   "execution_count": null,
   "metadata": {},
   "outputs": [],
   "source": [
    "# Next, import the right functions\n",
    "import pysal as ps\n",
    "import pysal.viz.mapclassify as mc"
   ]
  },
  {
   "cell_type": "markdown",
   "metadata": {},
   "source": [
    "The mapclassify function has the following properties:\n",
    "\n",
    "Attributes:\t\n",
    "yb : array\n",
    "(n,1), bin ids for observations,\n",
    "\n",
    "bins : array\n",
    "(k,1), the upper bounds of each class\n",
    "\n",
    "k : int\n",
    "the number of classes\n",
    "\n",
    "counts : array\n",
    "(k,1), the number of observations falling in each class\n",
    "\n"
   ]
  },
  {
   "cell_type": "code",
   "execution_count": null,
   "metadata": {},
   "outputs": [],
   "source": [
    "# I'm going to ask it to create standard deviation bins for my pct_owner variable\n",
    "pct_owner_stdev=mc.Std_Mean(mobility_gdf.pct_owner)"
   ]
  },
  {
   "cell_type": "code",
   "execution_count": null,
   "metadata": {},
   "outputs": [],
   "source": [
    "# It automatically created four bins based on the distribution in the data\n",
    "pct_owner_stdev.k"
   ]
  },
  {
   "cell_type": "code",
   "execution_count": null,
   "metadata": {},
   "outputs": [],
   "source": [
    "#This gives me the upper value of each bin.\n",
    "pct_owner_stdev.bins"
   ]
  },
  {
   "cell_type": "code",
   "execution_count": null,
   "metadata": {},
   "outputs": [],
   "source": [
    "#I can also set the bins at specific levels of standard deviations.  Note\n",
    "#that the bins return \"unlikely\" values - (e.g. we won't get -19 percent\n",
    "#owners or more than 100% owners).  That means that we don't have \"outlier\"\n",
    "#census tracts with values beyond 2 standard deviations from the mean, and \n",
    "#why python automatically assigned 4 bins above.\n",
    "st_new = mc.Std_Mean(mobility_gdf.pct_owner, multiples = [-3, -2, -1, 1, 2, 3])\n",
    "st_new.bins"
   ]
  },
  {
   "cell_type": "code",
   "execution_count": null,
   "metadata": {},
   "outputs": [],
   "source": [
    "#Here, we'll assign the bins created above to our map\n",
    "#Note that even though I assign seven bins, it's going to default\n",
    "#to the four bins that are \"realistic\" for the data.\n",
    "figure, ax = plt.subplots(figsize=(14,10))\n",
    "base = mobility_gdf.assign(cl=pct_owner_stdev.yb).plot(column=\"cl\", categorical=True, k = 7, legend=True, ax=ax, cmap=\"Blues\")"
   ]
  }
 ],
 "metadata": {
  "kernelspec": {
   "display_name": "Python 3",
   "language": "python",
   "name": "python3"
  },
  "language_info": {
   "codemirror_mode": {
    "name": "ipython",
    "version": 3
   },
   "file_extension": ".py",
   "mimetype": "text/x-python",
   "name": "python",
   "nbconvert_exporter": "python",
   "pygments_lexer": "ipython3",
   "version": "3.6.8"
  }
 },
 "nbformat": 4,
 "nbformat_minor": 2
}
